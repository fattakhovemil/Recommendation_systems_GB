{
 "cells": [
  {
   "cell_type": "markdown",
   "metadata": {},
   "source": [
    "1. Сравните метрики hit_rate@k, precision@k.\n",
    "Какую метрику использовать предпочтительно и почему?\n",
    "Приведите пример 2-3 задач (опишите, что является клиентом, что товаром), в которой более уместно использовать метрику hit_rate?"
   ]
  },
  {
   "cell_type": "markdown",
   "metadata": {},
   "source": [
    "   Hit rate - показывает, какое количество объектов класса 1 наш классификатор правильно предсказал, а подвид этой метрики hit_rate@k показывает, какое количество релевантных товаров есть среди топ-k рекомендованных. Например, нам необходимо понять, насколько хороши наши топ-10 рекомендаций.\n",
    "  \n",
    "   Precision@k - это мера того, сколько из первых k рекомендованных выборок входит в набор действительно релевантных, усредненных по всем пользователям.\n",
    "  \n",
    "   В случае, когда нам надо количественно узнать, сколько объектов класса 1 мы предсказали, то предпочтительнее использовать hit_rate@k. Precision@k полезен тем, что позволяет определить процентное соотношение релевантных товаров, которые были потом куплены из топ-k рекомендационного списка к общему числу из первых k рекомендованных выборок.\n",
    "  \n",
    "   Пример 1(hit_rate@k): Рекомендация категории товаров, например, автомобили, яхты, квартиры. Пользователь - клиент, категория - товар.\n",
    "  \n",
    "   Пример 2(hit_rate@k): Рекомендации дополнительных товаров к текущей покупке. Если человек покупает электроинструмент, то дополнительно рекомендуем ему несколько видов оснастки для этого электроинструмента. Пользователь - клиент, товар - товар.\n",
    "  \n",
    "   Пример 3(hit_rate@k): Поиск дешёвых авиабилетов. Пользователь - клиент, авиабилет - товар."
   ]
  },
  {
   "cell_type": "markdown",
   "metadata": {},
   "source": [
    "2. В метрике NDCG@k мы используем логарифм в знаменателе. Как Вы думаете, почему именно логарифм? Какую функцию можно использовать вместо логарифма? Привидите пример метрик/подходов к предобработке данных/функций ошибок в ML, где также в логарифм."
   ]
  },
  {
   "cell_type": "markdown",
   "metadata": {},
   "source": [
    "   Теоретического обоснования использования логарифмического коэффициента уменьшения, как такового, не было, кроме того факта, что он обеспечивает плавное уменьшение. Но авторы дают теоретическую гарантию использования коэффициента логарифмического сокращения в нормализованном DCG (NDCG). Авторы показывают, что для каждой пары существенно различных функций ранжирования NDCG может согласованно решать, какая из них лучше.\n",
    "   \n",
    "   Одним из достоинств нормализованного DSG(NDSG), является его штрафование за неправильное предсказание в первых позициях списка рекомендаций в \"щадящем\" режиме.\n",
    "   \n",
    "   В качестве альтернативы логарифмической функции уменьшения, используются также сигмоидальная функция в виде $ \\large f(x) = \\frac{1}{1 + e^{-x}}$ с областью значений [0, 1] и гиперболический тангенс $ \\large th x = \\frac{e^{2x}-1}{e^{2x}+1}$ с диапазоном значений функции (-1, 1).\n",
    "   \n",
    "   Метрика, основанная на использовании логарифма - PSNR(peak signal-to-noise ratio), использующаяся для измерения уровня искажений при сжатии изображений. "
   ]
  },
  {
   "cell_type": "markdown",
   "metadata": {},
   "source": [
    "3. Какие еще метрики (Вы можете вспомнить уже пройденные Вами или посмотреть в интернете) могут использоваться для рекомендательных систем (приведите примеры метрики и чем являются интеракции, чтобы она могла быть использована)."
   ]
  },
  {
   "cell_type": "markdown",
   "metadata": {},
   "source": [
    "Метрики класса Prediction Accuracy — оценивают точность предсказываемого рейтинга:\n",
    "\n",
    "MAE (Mean Absolute Error) - Среднее абсолютное отклонение.\n",
    "\n",
    "MSE (Mean Squared Error) - Среднеквадратичная ошибка.\n",
    "\n",
    "RMSE (Root Mean Squared Error) - Корень из среднеквадратичной ошибки.\n",
    "\n",
    "\n",
    "Метрики класса Decision Support:\n",
    "\n",
    "Precision - доля рекомендаций, понравившихся пользователю.\n",
    "\n",
    "Recall - доля интересных пользователю товаров, которая показана.\n",
    "\n",
    "F1-Measure - Среднее гармоническое метрик Precision и Recall. Полезно, когда заранее невозможно сказать, какая из метрик важнее.\n",
    "\n",
    "ROC AUC - Насколько высока концентрация интересных товаров в начале списка рекомендаций.\n",
    "\n",
    "Precision@N - Метрика Precision, посчитанная на Top-N записях.\n",
    "\n",
    "Recall@N - Метрика Recall, посчитанная на Top-N записях.\n",
    "\n",
    "AverageP - Среднее значение Precision на всем списке рекомендаций.\n",
    "\n",
    "\n",
    "Метрики класса Rank Accuracy:\n",
    "\n",
    "Mean Reciprocal Rank - На какой позиции списка рекомендаций пользователь находит первую полезную.\n",
    "\n",
    "Spearman Correlation - Корреляция (Спирмена) реального и прогнозируемого рангов рекомендаций.\n",
    "\n",
    "nDCG - Информативность выдачи с учетом ранжирования рекомендаций.\n",
    "\n",
    "Fraction of Concordance Pairs - Насколько высока концентрация интересных товаров в начале списка рекомендаций.\n",
    "\n",
    "В качестве метрик также можно использовать ранговые коэффициенты корреляции Кенделла, Мэтьюса, Крамера и другие."
   ]
  },
  {
   "cell_type": "markdown",
   "metadata": {},
   "source": [
    "   4. boughted = [1, 3, 5, 7, 9, 11]\n",
    "\n",
    "   recommended = [2, 5, 7, 4, 11, 9, 8, 10, 12, 3]\n",
    "\n",
    "   Посчитайте на этих данных pr@8, rec@8, AP@8, NDCG@8, MRR@8,\n",
    "   \n",
    "   Сначала поссчитайет \"руками\", а затем подтвердите рассчеты с помощью функций (некоторые были на    семинаре, некоторые нужно будут написать самостоятельно).\n",
    "   \n",
    "IDCG должен считаться для всех 8 позиций рекомендаций"
   ]
  },
  {
   "cell_type": "code",
   "execution_count": 1,
   "metadata": {},
   "outputs": [],
   "source": [
    "import pandas as pd\n",
    "import numpy as np"
   ]
  },
  {
   "cell_type": "code",
   "execution_count": 2,
   "metadata": {},
   "outputs": [],
   "source": [
    "boughted = [1, 3, 5, 7, 9, 11]\n",
    "recommended = [2, 5, 7, 4, 11, 9, 8, 10, 12, 3]"
   ]
  },
  {
   "cell_type": "markdown",
   "metadata": {},
   "source": [
    "### pr@8"
   ]
  },
  {
   "cell_type": "code",
   "execution_count": 3,
   "metadata": {},
   "outputs": [],
   "source": [
    "def precision_at_k(recommended_list, bought_list, k=5):\n",
    "    \n",
    "    bought_list = np.array(bought_list)\n",
    "    recommended_list = np.array(recommended_list)\n",
    "    \n",
    "    bought_list = bought_list\n",
    "    recommended_list = recommended_list[:k]\n",
    "    \n",
    "    flags = np.isin(bought_list, recommended_list)\n",
    "    precision = flags.sum() / len(recommended_list)\n",
    "     \n",
    "    return precision"
   ]
  },
  {
   "cell_type": "code",
   "execution_count": 4,
   "metadata": {},
   "outputs": [
    {
     "data": {
      "text/plain": [
       "0.5"
      ]
     },
     "execution_count": 4,
     "metadata": {},
     "output_type": "execute_result"
    }
   ],
   "source": [
    "precision_at_k(recommended, boughted, k=8)"
   ]
  },
  {
   "cell_type": "markdown",
   "metadata": {},
   "source": [
    "### rec@8"
   ]
  },
  {
   "cell_type": "code",
   "execution_count": 5,
   "metadata": {},
   "outputs": [],
   "source": [
    "def recall_at_k(recommended_list, bought_list, k=5):\n",
    "    bought_list = np.array(bought_list)\n",
    "    recommended_list = np.array(recommended_list)[:k]\n",
    "    \n",
    "    flags = np.isin(bought_list, recommended_list)\n",
    "    \n",
    "    recall = flags.sum() / len(bought_list)\n",
    "    \n",
    "    return recall"
   ]
  },
  {
   "cell_type": "code",
   "execution_count": 6,
   "metadata": {},
   "outputs": [
    {
     "data": {
      "text/plain": [
       "0.6666666666666666"
      ]
     },
     "execution_count": 6,
     "metadata": {},
     "output_type": "execute_result"
    }
   ],
   "source": [
    "recall_at_k(recommended, boughted, k=8)"
   ]
  },
  {
   "cell_type": "markdown",
   "metadata": {},
   "source": [
    "### AP@8"
   ]
  },
  {
   "cell_type": "code",
   "execution_count": 7,
   "metadata": {},
   "outputs": [],
   "source": [
    "def ap_k(recommended_list, bought_list, k=5):\n",
    "    \n",
    "    bought_list = np.array(bought_list)\n",
    "    recommended_list = np.array(recommended_list)\n",
    "    \n",
    "    flags = np.isin(recommended_list, bought_list)\n",
    "    \n",
    "    if sum(flags) == 0:\n",
    "        return 0\n",
    "    \n",
    "    sum_ = 0\n",
    "    for i in range(1, k+1): \n",
    "        if flags[i] == True:\n",
    "            p_k = precision_at_k(recommended_list, bought_list, k=i)\n",
    "            sum_ += p_k\n",
    "            \n",
    "    result = sum_ / sum(flags)\n",
    "    \n",
    "    return result"
   ]
  },
  {
   "cell_type": "code",
   "execution_count": 8,
   "metadata": {},
   "outputs": [
    {
     "data": {
      "text/plain": [
       "0.32"
      ]
     },
     "execution_count": 8,
     "metadata": {},
     "output_type": "execute_result"
    }
   ],
   "source": [
    "ap_k(recommended, boughted, k=8)"
   ]
  },
  {
   "cell_type": "markdown",
   "metadata": {},
   "source": [
    "### NDCG@8"
   ]
  },
  {
   "cell_type": "code",
   "execution_count": 9,
   "metadata": {},
   "outputs": [],
   "source": [
    "def NDCG_at_k(recommended_list, bought_list, k):\n",
    "    recommended_list = recommended_list[:k]\n",
    "    if recommended_list[0] in bought_list:\n",
    "        dcg = 1\n",
    "    else: dcg = 0\n",
    "    for i in range(1, len(recommended_list)):\n",
    "        if recommended_list[i] in bought_list:\n",
    "            dcg += 1/np.log(i+1)\n",
    "       \n",
    "    idcg = 1\n",
    "    for i in range(1, k):\n",
    "        idcg += 1/np.log(i+1)  \n",
    "    ndcg = dcg / idcg\n",
    "    \n",
    "    return ndcg"
   ]
  },
  {
   "cell_type": "code",
   "execution_count": 10,
   "metadata": {},
   "outputs": [
    {
     "data": {
      "text/plain": [
       "0.5653142737255068"
      ]
     },
     "execution_count": 10,
     "metadata": {},
     "output_type": "execute_result"
    }
   ],
   "source": [
    "NDCG_at_k(recommended, boughted, 8)"
   ]
  },
  {
   "cell_type": "markdown",
   "metadata": {},
   "source": [
    "### MRR@8"
   ]
  },
  {
   "cell_type": "code",
   "execution_count": 11,
   "metadata": {},
   "outputs": [],
   "source": [
    "def reciprocal_rank_at_k(recommended_list, bought_list, k):\n",
    "    recommended_list = recommended_list[:k]\n",
    "    ranks = 0\n",
    "    for item_rec in recommended_list:\n",
    "        for i, item_bought in enumerate(bought_list):\n",
    "            if item_rec == item_bought:\n",
    "                ranks += 1 / (i+1)\n",
    "    return ranks / len(recommended_list)"
   ]
  },
  {
   "cell_type": "code",
   "execution_count": 12,
   "metadata": {},
   "outputs": [
    {
     "data": {
      "text/plain": [
       "0.11875"
      ]
     },
     "execution_count": 12,
     "metadata": {},
     "output_type": "execute_result"
    }
   ],
   "source": [
    "reciprocal_rank_at_k(recommended, boughted, 8)"
   ]
  }
 ],
 "metadata": {
  "kernelspec": {
   "display_name": "Python 3",
   "language": "python",
   "name": "python3"
  },
  "language_info": {
   "codemirror_mode": {
    "name": "ipython",
    "version": 3
   },
   "file_extension": ".py",
   "mimetype": "text/x-python",
   "name": "python",
   "nbconvert_exporter": "python",
   "pygments_lexer": "ipython3",
   "version": "3.8.7"
  }
 },
 "nbformat": 4,
 "nbformat_minor": 4
}
